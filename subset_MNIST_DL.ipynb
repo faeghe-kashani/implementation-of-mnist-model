{
  "cells": [
    {
      "cell_type": "code",
      "execution_count": 1,
      "metadata": {
        "id": "lIYdn1woOS1n",
        "colab": {
          "base_uri": "https://localhost:8080/"
        },
        "outputId": "2e39646b-51f0-405c-fbdf-d628f425cc45"
      },
      "outputs": [
        {
          "output_type": "stream",
          "name": "stdout",
          "text": [
            "\u001b[2K     \u001b[90m━━━━━━━━━━━━━━━━━━━━━━━━━━━━━━━━━━━━━━━━\u001b[0m \u001b[32m719.8/719.8 kB\u001b[0m \u001b[31m3.7 MB/s\u001b[0m eta \u001b[36m0:00:00\u001b[0m\n",
            "\u001b[2K     \u001b[90m━━━━━━━━━━━━━━━━━━━━━━━━━━━━━━━━━━━━━━━━\u001b[0m \u001b[32m507.1/507.1 kB\u001b[0m \u001b[31m8.5 MB/s\u001b[0m eta \u001b[36m0:00:00\u001b[0m\n",
            "\u001b[2K     \u001b[90m━━━━━━━━━━━━━━━━━━━━━━━━━━━━━━━━━━━━━━━━\u001b[0m \u001b[32m1.3/1.3 MB\u001b[0m \u001b[31m7.0 MB/s\u001b[0m eta \u001b[36m0:00:00\u001b[0m\n",
            "\u001b[2K     \u001b[90m━━━━━━━━━━━━━━━━━━━━━━━━━━━━━━━━━━━━━━━━\u001b[0m \u001b[32m115.3/115.3 kB\u001b[0m \u001b[31m4.7 MB/s\u001b[0m eta \u001b[36m0:00:00\u001b[0m\n",
            "\u001b[2K     \u001b[90m━━━━━━━━━━━━━━━━━━━━━━━━━━━━━━━━━━━━━━━━\u001b[0m \u001b[32m134.8/134.8 kB\u001b[0m \u001b[31m3.7 MB/s\u001b[0m eta \u001b[36m0:00:00\u001b[0m\n",
            "\u001b[2K     \u001b[90m━━━━━━━━━━━━━━━━━━━━━━━━━━━━━━━━━━━━━━━━\u001b[0m \u001b[32m1.6/1.6 MB\u001b[0m \u001b[31m18.5 MB/s\u001b[0m eta \u001b[36m0:00:00\u001b[0m\n",
            "\u001b[?25h"
          ]
        }
      ],
      "source": [
        "#We will work on a small subset of MNIST dataset which contains only two digits (3 and 7):\n",
        "!pip install -Uqq fastbook\n",
        "import fastbook\n",
        "# fastbook.setup_book() # mount GDrive\n",
        "from fastbook import *\n",
        "from matplotlib import pyplot as plt"
      ]
    },
    {
      "cell_type": "code",
      "source": [
        "path = untar_data(URLs.MNIST_SAMPLE)\n",
        "path"
      ],
      "metadata": {
        "colab": {
          "base_uri": "https://localhost:8080/",
          "height": 55
        },
        "id": "xh8o4OBdrFFF",
        "outputId": "75a8fa31-fcda-4df7-a8a3-19be605c3500"
      },
      "execution_count": 2,
      "outputs": [
        {
          "output_type": "display_data",
          "data": {
            "text/plain": [
              "<IPython.core.display.HTML object>"
            ],
            "text/html": [
              "\n",
              "<style>\n",
              "    /* Turns off some styling */\n",
              "    progress {\n",
              "        /* gets rid of default border in Firefox and Opera. */\n",
              "        border: none;\n",
              "        /* Needs to be in here for Safari polyfill so background images work as expected. */\n",
              "        background-size: auto;\n",
              "    }\n",
              "    progress:not([value]), progress:not([value])::-webkit-progress-bar {\n",
              "        background: repeating-linear-gradient(45deg, #7e7e7e, #7e7e7e 10px, #5c5c5c 10px, #5c5c5c 20px);\n",
              "    }\n",
              "    .progress-bar-interrupted, .progress-bar-interrupted::-webkit-progress-bar {\n",
              "        background: #F44336;\n",
              "    }\n",
              "</style>\n"
            ]
          },
          "metadata": {}
        },
        {
          "output_type": "display_data",
          "data": {
            "text/plain": [
              "<IPython.core.display.HTML object>"
            ],
            "text/html": [
              "\n",
              "    <div>\n",
              "      <progress value='3219456' class='' max='3214948' style='width:300px; height:20px; vertical-align: middle;'></progress>\n",
              "      100.14% [3219456/3214948 00:00&lt;00:00]\n",
              "    </div>\n",
              "    "
            ]
          },
          "metadata": {}
        },
        {
          "output_type": "execute_result",
          "data": {
            "text/plain": [
              "Path('/root/.fastai/data/mnist_sample')"
            ]
          },
          "metadata": {},
          "execution_count": 2
        }
      ]
    },
    {
      "cell_type": "code",
      "source": [
        "path.ls()"
      ],
      "metadata": {
        "colab": {
          "base_uri": "https://localhost:8080/"
        },
        "id": "9jbeMaMdrJ_5",
        "outputId": "ba7d4c30-47d5-41bd-daf5-c7b1f5955a79"
      },
      "execution_count": 3,
      "outputs": [
        {
          "output_type": "execute_result",
          "data": {
            "text/plain": [
              "(#3) [Path('/root/.fastai/data/mnist_sample/train'),Path('/root/.fastai/data/mnist_sample/labels.csv'),Path('/root/.fastai/data/mnist_sample/valid')]"
            ]
          },
          "metadata": {},
          "execution_count": 3
        }
      ]
    },
    {
      "cell_type": "code",
      "source": [
        "Path.BASE_PATH = path"
      ],
      "metadata": {
        "id": "iHBB-rnrrNqp"
      },
      "execution_count": 4,
      "outputs": []
    },
    {
      "cell_type": "code",
      "source": [
        "(path).ls()"
      ],
      "metadata": {
        "colab": {
          "base_uri": "https://localhost:8080/"
        },
        "id": "aUJBHeH-rRJN",
        "outputId": "6311bb61-07c2-4fbc-e99e-371e16cf2bef"
      },
      "execution_count": 5,
      "outputs": [
        {
          "output_type": "execute_result",
          "data": {
            "text/plain": [
              "(#3) [Path('train'),Path('labels.csv'),Path('valid')]"
            ]
          },
          "metadata": {},
          "execution_count": 5
        }
      ]
    },
    {
      "cell_type": "code",
      "source": [
        "threes = (path/'train/3').ls().sorted()\n",
        "sevens = (path/'train/7').ls().sorted()"
      ],
      "metadata": {
        "id": "il-ewpPlrWLr"
      },
      "execution_count": 6,
      "outputs": []
    },
    {
      "cell_type": "code",
      "source": [
        "sevens\n",
        "im7_path = sevens[54]\n",
        "im7 = Image.open(im7_path)\n",
        "im7"
      ],
      "metadata": {
        "colab": {
          "base_uri": "https://localhost:8080/",
          "height": 45
        },
        "id": "xg0MTTcXrYrl",
        "outputId": "7931cff0-e73e-4a2f-f5bd-506aedfdc068"
      },
      "execution_count": 7,
      "outputs": [
        {
          "output_type": "execute_result",
          "data": {
            "text/plain": [
              "<PIL.PngImagePlugin.PngImageFile image mode=L size=28x28>"
            ],
            "image/png": "[encoded data removed]"
          },
          "metadata": {},
          "execution_count": 7
        }
      ]
    },
    {
      "cell_type": "code",
      "source": [
        "# --- We can convert PILImageFile to a numpy array or a tensor (on GPU):\n",
        "# im7_array = array(im7)\n",
        "# plt.imshow(im7_array)\n",
        "im7_tensor = tensor(im7)\n",
        "plt.imshow(im7_tensor[4:15, 4:22])"
      ],
      "metadata": {
        "colab": {
          "base_uri": "https://localhost:8080/",
          "height": 385
        },
        "id": "p2_LV2Ntrc5F",
        "outputId": "0f4f78c5-e16e-4bf1-fcc1-231c9d6982c9"
      },
      "execution_count": 8,
      "outputs": [
        {
          "output_type": "execute_result",
          "data": {
            "text/plain": [
              "<matplotlib.image.AxesImage at 0x7a38f55df550>"
            ]
          },
          "metadata": {},
          "execution_count": 8
        },
        {
          "output_type": "display_data",
          "data": {
            "text/plain": [
              "<Figure size 640x480 with 1 Axes>"
            ],
            "image/png": "[encoded data removed]"
          },
          "metadata": {}
        }
      ]
    },
    {
      "cell_type": "code",
      "source": [
        "# --- We can also use pandas DF to vizualize them in a neat way:\n",
        "df = pd.DataFrame(im7_tensor[4:15, 4:22])\n",
        "df.style.set_properties(**{'font-size': '6pt'}).background_gradient('BuPu')"
      ],
      "metadata": {
        "colab": {
          "base_uri": "https://localhost:8080/",
          "height": 394
        },
        "id": "CevGj-70rfbb",
        "outputId": "d7550fde-5c35-412b-bbac-b94f70978cc8"
      },
      "execution_count": 9,
      "outputs": [
        {
          "output_type": "execute_result",
          "data": {
            "text/plain": [
              "<pandas.io.formats.style.Styler at 0x7a38f5a5f640>"
            ],
            "text/html": [
              "<style type=\"text/css\">\n",
              "#T_1b272_row0_col0, #T_1b272_row0_col1, #T_1b272_row0_col2, #T_1b272_row0_col3, #T_1b272_row0_col4, #T_1b272_row0_col5, #T_1b272_row0_col6, #T_1b272_row0_col7, #T_1b272_row0_col8, #T_1b272_row0_col9, #T_1b272_row0_col10, #T_1b272_row0_col11, #T_1b272_row0_col12, #T_1b272_row0_col13, #T_1b272_row0_col14, #T_1b272_row0_col15, #T_1b272_row0_col16, #T_1b272_row0_col17, #T_1b272_row1_col0, #T_1b272_row1_col1, #T_1b272_row1_col2, #T_1b272_row1_col3, #T_1b272_row1_col4, #T_1b272_row1_col5, #T_1b272_row1_col6, #T_1b272_row1_col7, #T_1b272_row1_col8, #T_1b272_row1_col9, #T_1b272_row1_col10, #T_1b272_row1_col11, #T_1b272_row1_col12, #T_1b272_row1_col13, #T_1b272_row1_col14, #T_1b272_row1_col15, #T_1b272_row1_col16, #T_1b272_row1_col17, #T_1b272_row2_col0, #T_1b272_row2_col1, #T_1b272_row2_col2, #T_1b272_row2_col3, #T_1b272_row2_col4, #T_1b272_row2_col17, #T_1b272_row3_col0, #T_1b272_row3_col1, #T_1b272_row3_col2, #T_1b272_row3_col3, #T_1b272_row3_col17, #T_1b272_row4_col0, #T_1b272_row4_col1, #T_1b272_row4_col2, #T_1b272_row4_col3, #T_1b272_row4_col17, #T_1b272_row5_col0, #T_1b272_row5_col1, #T_1b272_row5_col2, #T_1b272_row5_col3, #T_1b272_row5_col4, #T_1b272_row5_col17, #T_1b272_row6_col0, #T_1b272_row6_col1, #T_1b272_row6_col2, #T_1b272_row6_col3, #T_1b272_row6_col4, #T_1b272_row6_col5, #T_1b272_row6_col6, #T_1b272_row6_col7, #T_1b272_row6_col8, #T_1b272_row6_col9, #T_1b272_row6_col10, #T_1b272_row6_col11, #T_1b272_row6_col17, #T_1b272_row7_col0, #T_1b272_row7_col1, #T_1b272_row7_col2, #T_1b272_row7_col3, #T_1b272_row7_col4, #T_1b272_row7_col5, #T_1b272_row7_col6, #T_1b272_row7_col7, #T_1b272_row7_col8, #T_1b272_row7_col9, #T_1b272_row7_col10, #T_1b272_row7_col17, #T_1b272_row8_col0, #T_1b272_row8_col1, #T_1b272_row8_col2, #T_1b272_row8_col3, #T_1b272_row8_col4, #T_1b272_row8_col5, #T_1b272_row8_col6, #T_1b272_row8_col7, #T_1b272_row8_col8, #T_1b272_row8_col9, #T_1b272_row8_col10, #T_1b272_row8_col16, #T_1b272_row8_col17, #T_1b272_row9_col0, #T_1b272_row9_col1, #T_1b272_row9_col2, #T_1b272_row9_col3, #T_1b272_row9_col4, #T_1b272_row9_col5, #T_1b272_row9_col6, #T_1b272_row9_col7, #T_1b272_row9_col8, #T_1b272_row9_col9, #T_1b272_row9_col10, #T_1b272_row9_col16, #T_1b272_row9_col17, #T_1b272_row10_col0, #T_1b272_row10_col1, #T_1b272_row10_col2, #T_1b272_row10_col3, #T_1b272_row10_col4, #T_1b272_row10_col5, #T_1b272_row10_col6, #T_1b272_row10_col7, #T_1b272_row10_col8, #T_1b272_row10_col9, #T_1b272_row10_col15, #T_1b272_row10_col16, #T_1b272_row10_col17 {\n",
              "  font-size: 6pt;\n",
              "  background-color: #f7fcfd;\n",
              "  color: #000000;\n",
              "}\n",
              "#T_1b272_row2_col5 {\n",
              "  font-size: 6pt;\n",
              "  background-color: #d4e3ef;\n",
              "  color: #000000;\n",
              "}\n",
              "#T_1b272_row2_col6, #T_1b272_row2_col7, #T_1b272_row2_col8 {\n",
              "  font-size: 6pt;\n",
              "  background-color: #8c8dc2;\n",
              "  color: #f1f1f1;\n",
              "}\n",
              "#T_1b272_row2_col9 {\n",
              "  font-size: 6pt;\n",
              "  background-color: #8948a0;\n",
              "  color: #f1f1f1;\n",
              "}\n",
              "#T_1b272_row2_col10, #T_1b272_row2_col11, #T_1b272_row2_col12, #T_1b272_row2_col13, #T_1b272_row2_col14, #T_1b272_row3_col4, #T_1b272_row3_col5, #T_1b272_row3_col6, #T_1b272_row3_col7, #T_1b272_row3_col8, #T_1b272_row3_col9, #T_1b272_row3_col15, #T_1b272_row3_col16, #T_1b272_row4_col6, #T_1b272_row4_col7, #T_1b272_row4_col8, #T_1b272_row4_col9, #T_1b272_row4_col15, #T_1b272_row4_col16, #T_1b272_row5_col15, #T_1b272_row5_col16, #T_1b272_row6_col15 {\n",
              "  font-size: 6pt;\n",
              "  background-color: #4d004b;\n",
              "  color: #f1f1f1;\n",
              "}\n",
              "#T_1b272_row2_col15 {\n",
              "  font-size: 6pt;\n",
              "  background-color: #7b0d76;\n",
              "  color: #f1f1f1;\n",
              "}\n",
              "#T_1b272_row2_col16 {\n",
              "  font-size: 6pt;\n",
              "  background-color: #cbdceb;\n",
              "  color: #000000;\n",
              "}\n",
              "#T_1b272_row3_col10, #T_1b272_row3_col12, #T_1b272_row3_col13, #T_1b272_row3_col14, #T_1b272_row4_col10, #T_1b272_row4_col12, #T_1b272_row4_col13, #T_1b272_row4_col14, #T_1b272_row5_col13, #T_1b272_row5_col14, #T_1b272_row6_col13, #T_1b272_row6_col14, #T_1b272_row7_col13, #T_1b272_row7_col14, #T_1b272_row8_col12, #T_1b272_row8_col13, #T_1b272_row8_col14, #T_1b272_row9_col12, #T_1b272_row9_col13, #T_1b272_row10_col12, #T_1b272_row10_col13 {\n",
              "  font-size: 6pt;\n",
              "  background-color: #4f004d;\n",
              "  color: #f1f1f1;\n",
              "}\n",
              "#T_1b272_row3_col11, #T_1b272_row4_col11, #T_1b272_row10_col11 {\n",
              "  font-size: 6pt;\n",
              "  background-color: #50014e;\n",
              "  color: #f1f1f1;\n",
              "}\n",
              "#T_1b272_row4_col4 {\n",
              "  font-size: 6pt;\n",
              "  background-color: #8a59a8;\n",
              "  color: #f1f1f1;\n",
              "}\n",
              "#T_1b272_row4_col5 {\n",
              "  font-size: 6pt;\n",
              "  background-color: #670864;\n",
              "  color: #f1f1f1;\n",
              "}\n",
              "#T_1b272_row5_col5 {\n",
              "  font-size: 6pt;\n",
              "  background-color: #bacfe4;\n",
              "  color: #000000;\n",
              "}\n",
              "#T_1b272_row5_col6 {\n",
              "  font-size: 6pt;\n",
              "  background-color: #909fcb;\n",
              "  color: #f1f1f1;\n",
              "}\n",
              "#T_1b272_row5_col7, #T_1b272_row9_col14 {\n",
              "  font-size: 6pt;\n",
              "  background-color: #8b64ad;\n",
              "  color: #f1f1f1;\n",
              "}\n",
              "#T_1b272_row5_col8, #T_1b272_row5_col9 {\n",
              "  font-size: 6pt;\n",
              "  background-color: #a9c4de;\n",
              "  color: #000000;\n",
              "}\n",
              "#T_1b272_row5_col10, #T_1b272_row5_col11, #T_1b272_row10_col14 {\n",
              "  font-size: 6pt;\n",
              "  background-color: #aac4de;\n",
              "  color: #000000;\n",
              "}\n",
              "#T_1b272_row5_col12 {\n",
              "  font-size: 6pt;\n",
              "  background-color: #9bb6d7;\n",
              "  color: #000000;\n",
              "}\n",
              "#T_1b272_row6_col12 {\n",
              "  font-size: 6pt;\n",
              "  background-color: #95a8d0;\n",
              "  color: #f1f1f1;\n",
              "}\n",
              "#T_1b272_row6_col16 {\n",
              "  font-size: 6pt;\n",
              "  background-color: #8c8fc2;\n",
              "  color: #f1f1f1;\n",
              "}\n",
              "#T_1b272_row7_col11 {\n",
              "  font-size: 6pt;\n",
              "  background-color: #d3e2ef;\n",
              "  color: #000000;\n",
              "}\n",
              "#T_1b272_row7_col12 {\n",
              "  font-size: 6pt;\n",
              "  background-color: #770c73;\n",
              "  color: #f1f1f1;\n",
              "}\n",
              "#T_1b272_row7_col15 {\n",
              "  font-size: 6pt;\n",
              "  background-color: #84258b;\n",
              "  color: #f1f1f1;\n",
              "}\n",
              "#T_1b272_row7_col16 {\n",
              "  font-size: 6pt;\n",
              "  background-color: #e9f2f8;\n",
              "  color: #000000;\n",
              "}\n",
              "#T_1b272_row8_col11 {\n",
              "  font-size: 6pt;\n",
              "  background-color: #8c90c3;\n",
              "  color: #f1f1f1;\n",
              "}\n",
              "#T_1b272_row8_col15 {\n",
              "  font-size: 6pt;\n",
              "  background-color: #8c74b5;\n",
              "  color: #f1f1f1;\n",
              "}\n",
              "#T_1b272_row9_col11 {\n",
              "  font-size: 6pt;\n",
              "  background-color: #6a0867;\n",
              "  color: #f1f1f1;\n",
              "}\n",
              "#T_1b272_row9_col15 {\n",
              "  font-size: 6pt;\n",
              "  background-color: #f0f7fa;\n",
              "  color: #000000;\n",
              "}\n",
              "#T_1b272_row10_col10 {\n",
              "  font-size: 6pt;\n",
              "  background-color: #95aad0;\n",
              "  color: #f1f1f1;\n",
              "}\n",
              "</style>\n",
              "<table id=\"T_1b272\" class=\"dataframe\">\n",
              "  <thead>\n",
              "    <tr>\n",
              "      <th class=\"blank level0\" >&nbsp;</th>\n",
              "      <th id=\"T_1b272_level0_col0\" class=\"col_heading level0 col0\" >0</th>\n",
              "      <th id=\"T_1b272_level0_col1\" class=\"col_heading level0 col1\" >1</th>\n",
              "      <th id=\"T_1b272_level0_col2\" class=\"col_heading level0 col2\" >2</th>\n",
              "      <th id=\"T_1b272_level0_col3\" class=\"col_heading level0 col3\" >3</th>\n",
              "      <th id=\"T_1b272_level0_col4\" class=\"col_heading level0 col4\" >4</th>\n",
              "      <th id=\"T_1b272_level0_col5\" class=\"col_heading level0 col5\" >5</th>\n",
              "      <th id=\"T_1b272_level0_col6\" class=\"col_heading level0 col6\" >6</th>\n",
              "      <th id=\"T_1b272_level0_col7\" class=\"col_heading level0 col7\" >7</th>\n",
              "      <th id=\"T_1b272_level0_col8\" class=\"col_heading level0 col8\" >8</th>\n",
              "      <th id=\"T_1b272_level0_col9\" class=\"col_heading level0 col9\" >9</th>\n",
              "      <th id=\"T_1b272_level0_col10\" class=\"col_heading level0 col10\" >10</th>\n",
              "      <th id=\"T_1b272_level0_col11\" class=\"col_heading level0 col11\" >11</th>\n",
              "      <th id=\"T_1b272_level0_col12\" class=\"col_heading level0 col12\" >12</th>\n",
              "      <th id=\"T_1b272_level0_col13\" class=\"col_heading level0 col13\" >13</th>\n",
              "      <th id=\"T_1b272_level0_col14\" class=\"col_heading level0 col14\" >14</th>\n",
              "      <th id=\"T_1b272_level0_col15\" class=\"col_heading level0 col15\" >15</th>\n",
              "      <th id=\"T_1b272_level0_col16\" class=\"col_heading level0 col16\" >16</th>\n",
              "      <th id=\"T_1b272_level0_col17\" class=\"col_heading level0 col17\" >17</th>\n",
              "    </tr>\n",
              "  </thead>\n",
              "  <tbody>\n",
              "    <tr>\n",
              "      <th id=\"T_1b272_level0_row0\" class=\"row_heading level0 row0\" >0</th>\n",
              "      <td id=\"T_1b272_row0_col0\" class=\"data row0 col0\" >0</td>\n",
              "      <td id=\"T_1b272_row0_col1\" class=\"data row0 col1\" >0</td>\n",
              "      <td id=\"T_1b272_row0_col2\" class=\"data row0 col2\" >0</td>\n",
              "      <td id=\"T_1b272_row0_col3\" class=\"data row0 col3\" >0</td>\n",
              "      <td id=\"T_1b272_row0_col4\" class=\"data row0 col4\" >0</td>\n",
              "      <td id=\"T_1b272_row0_col5\" class=\"data row0 col5\" >0</td>\n",
              "      <td id=\"T_1b272_row0_col6\" class=\"data row0 col6\" >0</td>\n",
              "      <td id=\"T_1b272_row0_col7\" class=\"data row0 col7\" >0</td>\n",
              "      <td id=\"T_1b272_row0_col8\" class=\"data row0 col8\" >0</td>\n",
              "      <td id=\"T_1b272_row0_col9\" class=\"data row0 col9\" >0</td>\n",
              "      <td id=\"T_1b272_row0_col10\" class=\"data row0 col10\" >0</td>\n",
              "      <td id=\"T_1b272_row0_col11\" class=\"data row0 col11\" >0</td>\n",
              "      <td id=\"T_1b272_row0_col12\" class=\"data row0 col12\" >0</td>\n",
              "      <td id=\"T_1b272_row0_col13\" class=\"data row0 col13\" >0</td>\n",
              "      <td id=\"T_1b272_row0_col14\" class=\"data row0 col14\" >0</td>\n",
              "      <td id=\"T_1b272_row0_col15\" class=\"data row0 col15\" >0</td>\n",
              "      <td id=\"T_1b272_row0_col16\" class=\"data row0 col16\" >0</td>\n",
              "      <td id=\"T_1b272_row0_col17\" class=\"data row0 col17\" >0</td>\n",
              "    </tr>\n",
              "    <tr>\n",
              "      <th id=\"T_1b272_level0_row1\" class=\"row_heading level0 row1\" >1</th>\n",
              "      <td id=\"T_1b272_row1_col0\" class=\"data row1 col0\" >0</td>\n",
              "      <td id=\"T_1b272_row1_col1\" class=\"data row1 col1\" >0</td>\n",
              "      <td id=\"T_1b272_row1_col2\" class=\"data row1 col2\" >0</td>\n",
              "      <td id=\"T_1b272_row1_col3\" class=\"data row1 col3\" >0</td>\n",
              "      <td id=\"T_1b272_row1_col4\" class=\"data row1 col4\" >0</td>\n",
              "      <td id=\"T_1b272_row1_col5\" class=\"data row1 col5\" >0</td>\n",
              "      <td id=\"T_1b272_row1_col6\" class=\"data row1 col6\" >0</td>\n",
              "      <td id=\"T_1b272_row1_col7\" class=\"data row1 col7\" >0</td>\n",
              "      <td id=\"T_1b272_row1_col8\" class=\"data row1 col8\" >0</td>\n",
              "      <td id=\"T_1b272_row1_col9\" class=\"data row1 col9\" >0</td>\n",
              "      <td id=\"T_1b272_row1_col10\" class=\"data row1 col10\" >0</td>\n",
              "      <td id=\"T_1b272_row1_col11\" class=\"data row1 col11\" >0</td>\n",
              "      <td id=\"T_1b272_row1_col12\" class=\"data row1 col12\" >0</td>\n",
              "      <td id=\"T_1b272_row1_col13\" class=\"data row1 col13\" >0</td>\n",
              "      <td id=\"T_1b272_row1_col14\" class=\"data row1 col14\" >0</td>\n",
              "      <td id=\"T_1b272_row1_col15\" class=\"data row1 col15\" >0</td>\n",
              "      <td id=\"T_1b272_row1_col16\" class=\"data row1 col16\" >0</td>\n",
              "      <td id=\"T_1b272_row1_col17\" class=\"data row1 col17\" >0</td>\n",
              "    </tr>\n",
              "    <tr>\n",
              "      <th id=\"T_1b272_level0_row2\" class=\"row_heading level0 row2\" >2</th>\n",
              "      <td id=\"T_1b272_row2_col0\" class=\"data row2 col0\" >0</td>\n",
              "      <td id=\"T_1b272_row2_col1\" class=\"data row2 col1\" >0</td>\n",
              "      <td id=\"T_1b272_row2_col2\" class=\"data row2 col2\" >0</td>\n",
              "      <td id=\"T_1b272_row2_col3\" class=\"data row2 col3\" >0</td>\n",
              "      <td id=\"T_1b272_row2_col4\" class=\"data row2 col4\" >0</td>\n",
              "      <td id=\"T_1b272_row2_col5\" class=\"data row2 col5\" >38</td>\n",
              "      <td id=\"T_1b272_row2_col6\" class=\"data row2 col6\" >132</td>\n",
              "      <td id=\"T_1b272_row2_col7\" class=\"data row2 col7\" >132</td>\n",
              "      <td id=\"T_1b272_row2_col8\" class=\"data row2 col8\" >132</td>\n",
              "      <td id=\"T_1b272_row2_col9\" class=\"data row2 col9\" >184</td>\n",
              "      <td id=\"T_1b272_row2_col10\" class=\"data row2 col10\" >253</td>\n",
              "      <td id=\"T_1b272_row2_col11\" class=\"data row2 col11\" >255</td>\n",
              "      <td id=\"T_1b272_row2_col12\" class=\"data row2 col12\" >253</td>\n",
              "      <td id=\"T_1b272_row2_col13\" class=\"data row2 col13\" >253</td>\n",
              "      <td id=\"T_1b272_row2_col14\" class=\"data row2 col14\" >253</td>\n",
              "      <td id=\"T_1b272_row2_col15\" class=\"data row2 col15\" >224</td>\n",
              "      <td id=\"T_1b272_row2_col16\" class=\"data row2 col16\" >37</td>\n",
              "      <td id=\"T_1b272_row2_col17\" class=\"data row2 col17\" >0</td>\n",
              "    </tr>\n",
              "    <tr>\n",
              "      <th id=\"T_1b272_level0_row3\" class=\"row_heading level0 row3\" >3</th>\n",
              "      <td id=\"T_1b272_row3_col0\" class=\"data row3 col0\" >0</td>\n",
              "      <td id=\"T_1b272_row3_col1\" class=\"data row3 col1\" >0</td>\n",
              "      <td id=\"T_1b272_row3_col2\" class=\"data row3 col2\" >0</td>\n",
              "      <td id=\"T_1b272_row3_col3\" class=\"data row3 col3\" >0</td>\n",
              "      <td id=\"T_1b272_row3_col4\" class=\"data row3 col4\" >28</td>\n",
              "      <td id=\"T_1b272_row3_col5\" class=\"data row3 col5\" >222</td>\n",
              "      <td id=\"T_1b272_row3_col6\" class=\"data row3 col6\" >252</td>\n",
              "      <td id=\"T_1b272_row3_col7\" class=\"data row3 col7\" >252</td>\n",
              "      <td id=\"T_1b272_row3_col8\" class=\"data row3 col8\" >252</td>\n",
              "      <td id=\"T_1b272_row3_col9\" class=\"data row3 col9\" >252</td>\n",
              "      <td id=\"T_1b272_row3_col10\" class=\"data row3 col10\" >252</td>\n",
              "      <td id=\"T_1b272_row3_col11\" class=\"data row3 col11\" >253</td>\n",
              "      <td id=\"T_1b272_row3_col12\" class=\"data row3 col12\" >252</td>\n",
              "      <td id=\"T_1b272_row3_col13\" class=\"data row3 col13\" >252</td>\n",
              "      <td id=\"T_1b272_row3_col14\" class=\"data row3 col14\" >252</td>\n",
              "      <td id=\"T_1b272_row3_col15\" class=\"data row3 col15\" >252</td>\n",
              "      <td id=\"T_1b272_row3_col16\" class=\"data row3 col16\" >180</td>\n",
              "      <td id=\"T_1b272_row3_col17\" class=\"data row3 col17\" >0</td>\n",
              "    </tr>\n",
              "    <tr>\n",
              "      <th id=\"T_1b272_level0_row4\" class=\"row_heading level0 row4\" >4</th>\n",
              "      <td id=\"T_1b272_row4_col0\" class=\"data row4 col0\" >0</td>\n",
              "      <td id=\"T_1b272_row4_col1\" class=\"data row4 col1\" >0</td>\n",
              "      <td id=\"T_1b272_row4_col2\" class=\"data row4 col2\" >0</td>\n",
              "      <td id=\"T_1b272_row4_col3\" class=\"data row4 col3\" >0</td>\n",
              "      <td id=\"T_1b272_row4_col4\" class=\"data row4 col4\" >19</td>\n",
              "      <td id=\"T_1b272_row4_col5\" class=\"data row4 col5\" >208</td>\n",
              "      <td id=\"T_1b272_row4_col6\" class=\"data row4 col6\" >252</td>\n",
              "      <td id=\"T_1b272_row4_col7\" class=\"data row4 col7\" >252</td>\n",
              "      <td id=\"T_1b272_row4_col8\" class=\"data row4 col8\" >252</td>\n",
              "      <td id=\"T_1b272_row4_col9\" class=\"data row4 col9\" >252</td>\n",
              "      <td id=\"T_1b272_row4_col10\" class=\"data row4 col10\" >252</td>\n",
              "      <td id=\"T_1b272_row4_col11\" class=\"data row4 col11\" >253</td>\n",
              "      <td id=\"T_1b272_row4_col12\" class=\"data row4 col12\" >252</td>\n",
              "      <td id=\"T_1b272_row4_col13\" class=\"data row4 col13\" >252</td>\n",
              "      <td id=\"T_1b272_row4_col14\" class=\"data row4 col14\" >252</td>\n",
              "      <td id=\"T_1b272_row4_col15\" class=\"data row4 col15\" >252</td>\n",
              "      <td id=\"T_1b272_row4_col16\" class=\"data row4 col16\" >180</td>\n",
              "      <td id=\"T_1b272_row4_col17\" class=\"data row4 col17\" >0</td>\n",
              "    </tr>\n",
              "    <tr>\n",
              "      <th id=\"T_1b272_level0_row5\" class=\"row_heading level0 row5\" >5</th>\n",
              "      <td id=\"T_1b272_row5_col0\" class=\"data row5 col0\" >0</td>\n",
              "      <td id=\"T_1b272_row5_col1\" class=\"data row5 col1\" >0</td>\n",
              "      <td id=\"T_1b272_row5_col2\" class=\"data row5 col2\" >0</td>\n",
              "      <td id=\"T_1b272_row5_col3\" class=\"data row5 col3\" >0</td>\n",
              "      <td id=\"T_1b272_row5_col4\" class=\"data row5 col4\" >0</td>\n",
              "      <td id=\"T_1b272_row5_col5\" class=\"data row5 col5\" >60</td>\n",
              "      <td id=\"T_1b272_row5_col6\" class=\"data row5 col6\" >119</td>\n",
              "      <td id=\"T_1b272_row5_col7\" class=\"data row5 col7\" >163</td>\n",
              "      <td id=\"T_1b272_row5_col8\" class=\"data row5 col8\" >84</td>\n",
              "      <td id=\"T_1b272_row5_col9\" class=\"data row5 col9\" >84</td>\n",
              "      <td id=\"T_1b272_row5_col10\" class=\"data row5 col10\" >84</td>\n",
              "      <td id=\"T_1b272_row5_col11\" class=\"data row5 col11\" >84</td>\n",
              "      <td id=\"T_1b272_row5_col12\" class=\"data row5 col12\" >100</td>\n",
              "      <td id=\"T_1b272_row5_col13\" class=\"data row5 col13\" >252</td>\n",
              "      <td id=\"T_1b272_row5_col14\" class=\"data row5 col14\" >252</td>\n",
              "      <td id=\"T_1b272_row5_col15\" class=\"data row5 col15\" >252</td>\n",
              "      <td id=\"T_1b272_row5_col16\" class=\"data row5 col16\" >180</td>\n",
              "      <td id=\"T_1b272_row5_col17\" class=\"data row5 col17\" >0</td>\n",
              "    </tr>\n",
              "    <tr>\n",
              "      <th id=\"T_1b272_level0_row6\" class=\"row_heading level0 row6\" >6</th>\n",
              "      <td id=\"T_1b272_row6_col0\" class=\"data row6 col0\" >0</td>\n",
              "      <td id=\"T_1b272_row6_col1\" class=\"data row6 col1\" >0</td>\n",
              "      <td id=\"T_1b272_row6_col2\" class=\"data row6 col2\" >0</td>\n",
              "      <td id=\"T_1b272_row6_col3\" class=\"data row6 col3\" >0</td>\n",
              "      <td id=\"T_1b272_row6_col4\" class=\"data row6 col4\" >0</td>\n",
              "      <td id=\"T_1b272_row6_col5\" class=\"data row6 col5\" >0</td>\n",
              "      <td id=\"T_1b272_row6_col6\" class=\"data row6 col6\" >0</td>\n",
              "      <td id=\"T_1b272_row6_col7\" class=\"data row6 col7\" >0</td>\n",
              "      <td id=\"T_1b272_row6_col8\" class=\"data row6 col8\" >0</td>\n",
              "      <td id=\"T_1b272_row6_col9\" class=\"data row6 col9\" >0</td>\n",
              "      <td id=\"T_1b272_row6_col10\" class=\"data row6 col10\" >0</td>\n",
              "      <td id=\"T_1b272_row6_col11\" class=\"data row6 col11\" >0</td>\n",
              "      <td id=\"T_1b272_row6_col12\" class=\"data row6 col12\" >111</td>\n",
              "      <td id=\"T_1b272_row6_col13\" class=\"data row6 col13\" >252</td>\n",
              "      <td id=\"T_1b272_row6_col14\" class=\"data row6 col14\" >252</td>\n",
              "      <td id=\"T_1b272_row6_col15\" class=\"data row6 col15\" >252</td>\n",
              "      <td id=\"T_1b272_row6_col16\" class=\"data row6 col16\" >94</td>\n",
              "      <td id=\"T_1b272_row6_col17\" class=\"data row6 col17\" >0</td>\n",
              "    </tr>\n",
              "    <tr>\n",
              "      <th id=\"T_1b272_level0_row7\" class=\"row_heading level0 row7\" >7</th>\n",
              "      <td id=\"T_1b272_row7_col0\" class=\"data row7 col0\" >0</td>\n",
              "      <td id=\"T_1b272_row7_col1\" class=\"data row7 col1\" >0</td>\n",
              "      <td id=\"T_1b272_row7_col2\" class=\"data row7 col2\" >0</td>\n",
              "      <td id=\"T_1b272_row7_col3\" class=\"data row7 col3\" >0</td>\n",
              "      <td id=\"T_1b272_row7_col4\" class=\"data row7 col4\" >0</td>\n",
              "      <td id=\"T_1b272_row7_col5\" class=\"data row7 col5\" >0</td>\n",
              "      <td id=\"T_1b272_row7_col6\" class=\"data row7 col6\" >0</td>\n",
              "      <td id=\"T_1b272_row7_col7\" class=\"data row7 col7\" >0</td>\n",
              "      <td id=\"T_1b272_row7_col8\" class=\"data row7 col8\" >0</td>\n",
              "      <td id=\"T_1b272_row7_col9\" class=\"data row7 col9\" >0</td>\n",
              "      <td id=\"T_1b272_row7_col10\" class=\"data row7 col10\" >0</td>\n",
              "      <td id=\"T_1b272_row7_col11\" class=\"data row7 col11\" >44</td>\n",
              "      <td id=\"T_1b272_row7_col12\" class=\"data row7 col12\" >227</td>\n",
              "      <td id=\"T_1b272_row7_col13\" class=\"data row7 col13\" >252</td>\n",
              "      <td id=\"T_1b272_row7_col14\" class=\"data row7 col14\" >252</td>\n",
              "      <td id=\"T_1b272_row7_col15\" class=\"data row7 col15\" >206</td>\n",
              "      <td id=\"T_1b272_row7_col16\" class=\"data row7 col16\" >14</td>\n",
              "      <td id=\"T_1b272_row7_col17\" class=\"data row7 col17\" >0</td>\n",
              "    </tr>\n",
              "    <tr>\n",
              "      <th id=\"T_1b272_level0_row8\" class=\"row_heading level0 row8\" >8</th>\n",
              "      <td id=\"T_1b272_row8_col0\" class=\"data row8 col0\" >0</td>\n",
              "      <td id=\"T_1b272_row8_col1\" class=\"data row8 col1\" >0</td>\n",
              "      <td id=\"T_1b272_row8_col2\" class=\"data row8 col2\" >0</td>\n",
              "      <td id=\"T_1b272_row8_col3\" class=\"data row8 col3\" >0</td>\n",
              "      <td id=\"T_1b272_row8_col4\" class=\"data row8 col4\" >0</td>\n",
              "      <td id=\"T_1b272_row8_col5\" class=\"data row8 col5\" >0</td>\n",
              "      <td id=\"T_1b272_row8_col6\" class=\"data row8 col6\" >0</td>\n",
              "      <td id=\"T_1b272_row8_col7\" class=\"data row8 col7\" >0</td>\n",
              "      <td id=\"T_1b272_row8_col8\" class=\"data row8 col8\" >0</td>\n",
              "      <td id=\"T_1b272_row8_col9\" class=\"data row8 col9\" >0</td>\n",
              "      <td id=\"T_1b272_row8_col10\" class=\"data row8 col10\" >0</td>\n",
              "      <td id=\"T_1b272_row8_col11\" class=\"data row8 col11\" >132</td>\n",
              "      <td id=\"T_1b272_row8_col12\" class=\"data row8 col12\" >252</td>\n",
              "      <td id=\"T_1b272_row8_col13\" class=\"data row8 col13\" >252</td>\n",
              "      <td id=\"T_1b272_row8_col14\" class=\"data row8 col14\" >252</td>\n",
              "      <td id=\"T_1b272_row8_col15\" class=\"data row8 col15\" >151</td>\n",
              "      <td id=\"T_1b272_row8_col16\" class=\"data row8 col16\" >0</td>\n",
              "      <td id=\"T_1b272_row8_col17\" class=\"data row8 col17\" >0</td>\n",
              "    </tr>\n",
              "    <tr>\n",
              "      <th id=\"T_1b272_level0_row9\" class=\"row_heading level0 row9\" >9</th>\n",
              "      <td id=\"T_1b272_row9_col0\" class=\"data row9 col0\" >0</td>\n",
              "      <td id=\"T_1b272_row9_col1\" class=\"data row9 col1\" >0</td>\n",
              "      <td id=\"T_1b272_row9_col2\" class=\"data row9 col2\" >0</td>\n",
              "      <td id=\"T_1b272_row9_col3\" class=\"data row9 col3\" >0</td>\n",
              "      <td id=\"T_1b272_row9_col4\" class=\"data row9 col4\" >0</td>\n",
              "      <td id=\"T_1b272_row9_col5\" class=\"data row9 col5\" >0</td>\n",
              "      <td id=\"T_1b272_row9_col6\" class=\"data row9 col6\" >0</td>\n",
              "      <td id=\"T_1b272_row9_col7\" class=\"data row9 col7\" >0</td>\n",
              "      <td id=\"T_1b272_row9_col8\" class=\"data row9 col8\" >0</td>\n",
              "      <td id=\"T_1b272_row9_col9\" class=\"data row9 col9\" >0</td>\n",
              "      <td id=\"T_1b272_row9_col10\" class=\"data row9 col10\" >0</td>\n",
              "      <td id=\"T_1b272_row9_col11\" class=\"data row9 col11\" >237</td>\n",
              "      <td id=\"T_1b272_row9_col12\" class=\"data row9 col12\" >252</td>\n",
              "      <td id=\"T_1b272_row9_col13\" class=\"data row9 col13\" >252</td>\n",
              "      <td id=\"T_1b272_row9_col14\" class=\"data row9 col14\" >164</td>\n",
              "      <td id=\"T_1b272_row9_col15\" class=\"data row9 col15\" >10</td>\n",
              "      <td id=\"T_1b272_row9_col16\" class=\"data row9 col16\" >0</td>\n",
              "      <td id=\"T_1b272_row9_col17\" class=\"data row9 col17\" >0</td>\n",
              "    </tr>\n",
              "    <tr>\n",
              "      <th id=\"T_1b272_level0_row10\" class=\"row_heading level0 row10\" >10</th>\n",
              "      <td id=\"T_1b272_row10_col0\" class=\"data row10 col0\" >0</td>\n",
              "      <td id=\"T_1b272_row10_col1\" class=\"data row10 col1\" >0</td>\n",
              "      <td id=\"T_1b272_row10_col2\" class=\"data row10 col2\" >0</td>\n",
              "      <td id=\"T_1b272_row10_col3\" class=\"data row10 col3\" >0</td>\n",
              "      <td id=\"T_1b272_row10_col4\" class=\"data row10 col4\" >0</td>\n",
              "      <td id=\"T_1b272_row10_col5\" class=\"data row10 col5\" >0</td>\n",
              "      <td id=\"T_1b272_row10_col6\" class=\"data row10 col6\" >0</td>\n",
              "      <td id=\"T_1b272_row10_col7\" class=\"data row10 col7\" >0</td>\n",
              "      <td id=\"T_1b272_row10_col8\" class=\"data row10 col8\" >0</td>\n",
              "      <td id=\"T_1b272_row10_col9\" class=\"data row10 col9\" >0</td>\n",
              "      <td id=\"T_1b272_row10_col10\" class=\"data row10 col10\" >110</td>\n",
              "      <td id=\"T_1b272_row10_col11\" class=\"data row10 col11\" >253</td>\n",
              "      <td id=\"T_1b272_row10_col12\" class=\"data row10 col12\" >252</td>\n",
              "      <td id=\"T_1b272_row10_col13\" class=\"data row10 col13\" >252</td>\n",
              "      <td id=\"T_1b272_row10_col14\" class=\"data row10 col14\" >84</td>\n",
              "      <td id=\"T_1b272_row10_col15\" class=\"data row10 col15\" >0</td>\n",
              "      <td id=\"T_1b272_row10_col16\" class=\"data row10 col16\" >0</td>\n",
              "      <td id=\"T_1b272_row10_col17\" class=\"data row10 col17\" >0</td>\n",
              "    </tr>\n",
              "  </tbody>\n",
              "</table>\n"
            ]
          },
          "metadata": {},
          "execution_count": 9
        }
      ]
    },
    {
      "cell_type": "code",
      "source": [
        "#We will start by making a simple baseline predictive model (pixel similarity):\n",
        "three_tensors = [tensor(Image.open(f)) for f in threes]\n",
        "seven_tensors = [tensor(Image.open(f)) for f in sevens]"
      ],
      "metadata": {
        "id": "rTWYNPiMrlOi"
      },
      "execution_count": 10,
      "outputs": []
    },
    {
      "cell_type": "code",
      "source": [
        "len(seven_tensors)\n",
        "seven_tensors[1].shape\n",
        "show_image(seven_tensors[1])"
      ],
      "metadata": {
        "colab": {
          "base_uri": "https://localhost:8080/",
          "height": 132
        },
        "id": "Ul9elLJ5rpuL",
        "outputId": "4ea497b4-236e-4aae-9f40-950b7e9b82ab"
      },
      "execution_count": 11,
      "outputs": [
        {
          "output_type": "execute_result",
          "data": {
            "text/plain": [
              "<Axes: >"
            ]
          },
          "metadata": {},
          "execution_count": 11
        },
        {
          "output_type": "display_data",
          "data": {
            "text/plain": [
              "<Figure size 100x100 with 1 Axes>"
            ],
            "image/png": "[encoded data removed]"
          },
          "metadata": {}
        }
      ]
    },
    {
      "cell_type": "code",
      "source": [
        "#Let's stack our images into a two tensors and normalize them:\n",
        "stacked_threes = torch.stack(three_tensors).float() / 255\n",
        "stacked_sevens = torch.stack(seven_tensors).float() / 255"
      ],
      "metadata": {
        "id": "Mf1cnK61rsmf"
      },
      "execution_count": 12,
      "outputs": []
    },
    {
      "cell_type": "code",
      "source": [
        "print(stacked_threes.shape)\n",
        "a_3 = stacked_threes[34]\n",
        "a_7 = stacked_sevens[54]\n",
        "a_3.shape"
      ],
      "metadata": {
        "colab": {
          "base_uri": "https://localhost:8080/"
        },
        "id": "2oYnH9earxDl",
        "outputId": "8b7ef67b-f985-4f48-d646-65bc998911df"
      },
      "execution_count": 13,
      "outputs": [
        {
          "output_type": "stream",
          "name": "stdout",
          "text": [
            "torch.Size([6131, 28, 28])\n"
          ]
        },
        {
          "output_type": "execute_result",
          "data": {
            "text/plain": [
              "torch.Size([28, 28])"
            ]
          },
          "metadata": {},
          "execution_count": 13
        }
      ]
    },
    {
      "cell_type": "code",
      "source": [
        "#For this simple model, we will compare new images against the means of 3 and 7 tensors:\n",
        "mean3 = stacked_threes.mean(0)\n",
        "mean7 = stacked_sevens.mean(0)\n",
        "\n",
        "show_image(mean3), show_image(mean7);"
      ],
      "metadata": {
        "colab": {
          "base_uri": "https://localhost:8080/",
          "height": 211
        },
        "id": "vKiLyt_Zrzix",
        "outputId": "d1123dc2-4e93-4860-9df5-ced1424d7d3d"
      },
      "execution_count": 14,
      "outputs": [
        {
          "output_type": "display_data",
          "data": {
            "text/plain": [
              "<Figure size 100x100 with 1 Axes>"
            ],
            "image/png": "[encoded data removed]"
          },
          "metadata": {}
        },
        {
          "output_type": "display_data",
          "data": {
            "text/plain": [
              "<Figure size 100x100 with 1 Axes>"
            ],
            "image/png": "[encoded data removed]"
          },
          "metadata": {}
        }
      ]
    },
    {
      "cell_type": "code",
      "source": [
        " def img_distance(a, b):\n",
        "     return (a - b).abs().mean()\n",
        "\n",
        "print(img_distance(a_7, mean7))\n",
        "print(img_distance(a_7, mean3))"
      ],
      "metadata": {
        "colab": {
          "base_uri": "https://localhost:8080/"
        },
        "id": "RQSZKHm8r4nS",
        "outputId": "4364877d-581e-43db-9361-2a7403721e8a"
      },
      "execution_count": 15,
      "outputs": [
        {
          "output_type": "stream",
          "name": "stdout",
          "text": [
            "tensor(0.1084)\n",
            "tensor(0.1410)\n"
          ]
        }
      ]
    },
    {
      "cell_type": "code",
      "source": [
        "#Let's create a validation set and a simple MAE fucntion:\n",
        "\n",
        "# Stack tensors:\n",
        "valid_3_tensors = torch.stack([tensor(Image.open(f)) for f in (path/'valid/3').ls()])\n",
        "valid_7_tensors = torch.stack([tensor(Image.open(f)) for f in (path/'valid/7').ls()])\n",
        "\n",
        "# Normalize tensors:\n",
        "valid_3_tensors = valid_3_tensors.float()/255\n",
        "valid_7_tensors = valid_7_tensors.float()/255\n",
        "\n",
        "print(valid_3_tensors.shape)"
      ],
      "metadata": {
        "colab": {
          "base_uri": "https://localhost:8080/"
        },
        "id": "2dt3GCOor-L4",
        "outputId": "d532364e-ec37-4ce5-945f-2c9e7d7117f0"
      },
      "execution_count": 16,
      "outputs": [
        {
          "output_type": "stream",
          "name": "stdout",
          "text": [
            "torch.Size([1010, 28, 28])\n"
          ]
        }
      ]
    },
    {
      "cell_type": "code",
      "source": [
        "def img_distance(input, mean_tensor):\n",
        "    return (input-mean_tensor).abs().mean((-1,-2))\n",
        "\n",
        "def is_3(x):\n",
        "    return (img_distance(x, mean3) < img_distance(x, mean7)).float()"
      ],
      "metadata": {
        "id": "OQexOeBTsCok"
      },
      "execution_count": 19,
      "outputs": []
    },
    {
      "cell_type": "code",
      "source": [
        "is_3(valid_3_tensors).shape"
      ],
      "metadata": {
        "colab": {
          "base_uri": "https://localhost:8080/"
        },
        "id": "4l4UIYJPsE-x",
        "outputId": "e6d393a7-f7a5-4670-9840-371ceda0d24b"
      },
      "execution_count": 20,
      "outputs": [
        {
          "output_type": "execute_result",
          "data": {
            "text/plain": [
              "torch.Size([1010])"
            ]
          },
          "metadata": {},
          "execution_count": 20
        }
      ]
    },
    {
      "cell_type": "code",
      "source": [
        "accuracy_3s = is_3(valid_3_tensors).mean()\n",
        "accuracy_7s = (1 - is_3(valid_7_tensors)).mean()\n",
        "\n",
        "print(accuracy_3s)"
      ],
      "metadata": {
        "colab": {
          "base_uri": "https://localhost:8080/"
        },
        "id": "twuGavZHsJZm",
        "outputId": "64b36daf-d4b7-4e28-ea16-878cd08a1d10"
      },
      "execution_count": 21,
      "outputs": [
        {
          "output_type": "stream",
          "name": "stdout",
          "text": [
            "tensor(0.9168)\n"
          ]
        }
      ]
    }
  ],
  "metadata": {
    "colab": {
      "provenance": []
    },
    "kernelspec": {
      "display_name": "Python 3",
      "name": "python3"
    }
  },
  "nbformat": 4,
  "nbformat_minor": 0
}